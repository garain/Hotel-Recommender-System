{
 "cells": [
  {
   "cell_type": "code",
   "execution_count": 1,
   "metadata": {
    "_cell_guid": "b1076dfc-b9ad-4769-8c92-a6c4dae69d19",
    "_uuid": "8f2839f25d086af736a60e9eeb907d3b93b6e0e5"
   },
   "outputs": [
    {
     "name": "stdout",
     "output_type": "stream",
     "text": [
      "/kaggle/input/avishek-hotel/sentiments.csv\n",
      "/kaggle/input/hotel-text-data/text.txt\n"
     ]
    }
   ],
   "source": [
    "# This Python 3 environment comes with many helpful analytics libraries installed\n",
    "# It is defined by the kaggle/python Docker image: https://github.com/kaggle/docker-python\n",
    "# For example, here's several helpful packages to load\n",
    "\n",
    "import numpy as np # linear algebra\n",
    "import pandas as pd # data processing, CSV file I/O (e.g. pd.read_csv)\n",
    "\n",
    "# Input data files are available in the read-only \"../input/\" directory\n",
    "# For example, running this (by clicking run or pressing Shift+Enter) will list all files under the input directory\n",
    "\n",
    "\n",
    "import os\n",
    "for dirname, _, filenames in os.walk('/kaggle/input'):\n",
    "    for filename in filenames:\n",
    "        print(os.path.join(dirname, filename))\n",
    "\n",
    "# You can write up to 5GB to the current directory (/kaggle/working/) that gets preserved as output when you create a version using \"Save & Run All\" \n",
    "# You can also write temporary files to /kaggle/temp/, but they won't be saved outside of the current session"
   ]
  },
  {
   "cell_type": "code",
   "execution_count": 2,
   "metadata": {},
   "outputs": [],
   "source": [
    "\n",
    "# Some used imports\n",
    "%matplotlib inline\n",
    "import pandas as pd\n",
    "import numpy as np\n",
    "import os\n",
    "import glob\n",
    "import matplotlib as mpl\n",
    "\n",
    "# Just making the plots look better\n",
    "mpl.style.use('ggplot')\n",
    "mpl.rcParams['figure.figsize'] = (8,6)\n",
    "mpl.rcParams['font.size'] = 12"
   ]
  },
  {
   "cell_type": "code",
   "execution_count": 3,
   "metadata": {},
   "outputs": [],
   "source": [
    "import nltk\n",
    "from nltk.tokenize import sent_tokenize\n",
    "\n",
    "tokenizer = nltk.data.load('tokenizers/punkt/english.pickle')\n",
    "fp = open(\"/kaggle/input/hotel-text-data/text.txt\")\n",
    "data = fp.read()\n",
    "sentences=sent_tokenize(data)"
   ]
  },
  {
   "cell_type": "markdown",
   "execution_count": null,
   "metadata": {},
   "source": [
    "## Sentences to pandas dataframe"
   ]
  },
  {
   "cell_type": "code",
   "execution_count": 4,
   "metadata": {},
   "outputs": [],
   "source": [
    "df = pd.DataFrame(sentences,columns=[\"sentences\"])"
   ]
  },
  {
   "cell_type": "code",
   "execution_count": 5,
   "metadata": {},
   "outputs": [
    {
     "data": {
      "text/html": [
       "<div>\n",
       "<style scoped>\n",
       "    .dataframe tbody tr th:only-of-type {\n",
       "        vertical-align: middle;\n",
       "    }\n",
       "\n",
       "    .dataframe tbody tr th {\n",
       "        vertical-align: top;\n",
       "    }\n",
       "\n",
       "    .dataframe thead th {\n",
       "        text-align: right;\n",
       "    }\n",
       "</style>\n",
       "<table border=\"1\" class=\"dataframe\">\n",
       "  <thead>\n",
       "    <tr style=\"text-align: right;\">\n",
       "      <th></th>\n",
       "      <th>sentences</th>\n",
       "    </tr>\n",
       "  </thead>\n",
       "  <tbody>\n",
       "    <tr>\n",
       "      <th>0</th>\n",
       "      <td>The premises are very peaceful and well mainta...</td>\n",
       "    </tr>\n",
       "    <tr>\n",
       "      <th>1</th>\n",
       "      <td>The apartment was spacious though basically eq...</td>\n",
       "    </tr>\n",
       "    <tr>\n",
       "      <th>2</th>\n",
       "      <td>We enjoyed the fine pool and good food.</td>\n",
       "    </tr>\n",
       "    <tr>\n",
       "      <th>3</th>\n",
       "      <td>But the hospitality was overwhelming!</td>\n",
       "    </tr>\n",
       "    <tr>\n",
       "      <th>4</th>\n",
       "      <td>These people are so friendly and helpful that ...</td>\n",
       "    </tr>\n",
       "    <tr>\n",
       "      <th>...</th>\n",
       "      <td>...</td>\n",
       "    </tr>\n",
       "    <tr>\n",
       "      <th>407957</th>\n",
       "      <td>Police were in parking lot as I was pulling in.</td>\n",
       "    </tr>\n",
       "    <tr>\n",
       "      <th>407958</th>\n",
       "      <td>People walking through parking lot heading bac...</td>\n",
       "    </tr>\n",
       "    <tr>\n",
       "      <th>407959</th>\n",
       "      <td>We were nearly eaten by the bed bugs, more agr...</td>\n",
       "    </tr>\n",
       "    <tr>\n",
       "      <th>407960</th>\n",
       "      <td>I would not reccomend this hole even to my wor...</td>\n",
       "    </tr>\n",
       "    <tr>\n",
       "      <th>407961</th>\n",
       "      <td>Next day we needed medical help.</td>\n",
       "    </tr>\n",
       "  </tbody>\n",
       "</table>\n",
       "<p>407962 rows × 1 columns</p>\n",
       "</div>"
      ],
      "text/plain": [
       "                                                sentences\n",
       "0       The premises are very peaceful and well mainta...\n",
       "1       The apartment was spacious though basically eq...\n",
       "2                 We enjoyed the fine pool and good food.\n",
       "3                   But the hospitality was overwhelming!\n",
       "4       These people are so friendly and helpful that ...\n",
       "...                                                   ...\n",
       "407957    Police were in parking lot as I was pulling in.\n",
       "407958  People walking through parking lot heading bac...\n",
       "407959  We were nearly eaten by the bed bugs, more agr...\n",
       "407960  I would not reccomend this hole even to my wor...\n",
       "407961                   Next day we needed medical help.\n",
       "\n",
       "[407962 rows x 1 columns]"
      ]
     },
     "execution_count": 5,
     "metadata": {},
     "output_type": "execute_result"
    }
   ],
   "source": [
    "df"
   ]
  },
  {
   "cell_type": "markdown",
   "execution_count": null,
   "metadata": {},
   "source": [
    "## Categories"
   ]
  },
  {
   "cell_type": "code",
   "execution_count": 6,
   "metadata": {},
   "outputs": [],
   "source": [
    "cleanliness= [\"satisfactory\", \"ample\", \"hygienic\", \"proper\", \"ambience\", \"odour\",\"dirty\",\"clean\",\"smell\",\"cleanliness\"]\n",
    "service = [\"desk\", \"check in\", \"check out\", \"reliable\", \"fast\", \"convenient\",\"service\",\"hospitality\"]\n",
    "location= [\"railway\", \"view\",\"station\",\"airport\",\"distance\",\"far\",\"close\",\"train\", \"metro\",\"transport\",\"market\",\"mall\",\"surrounding\",\"areas\",\"highway\",\"traffic\",\"out\",\"location\"]\n",
    "value= [\"price\", \"amount\", \"rate\", \"cheap\", \"worth\", \"low\", 'money', \"economical\", \"reasonable\", \"fee\", \"expensive\", \"charge\",\"value\"]\n",
    "room= [\"bed\",\"bunkbeds\",\"toilet\", \"bathroom\", \"shower\",\"dryer\",\"fridge\", \"space\", \"spacious\", \"outdated\", \"noisy\",\"room\"]\n",
    "food= [\"drink\",\"breakfast\",\"spicy\", \"food\",\"tasty\",\"tea\",\"coffee\", \"buffet\", \"bar\", \"restaurant\",\"dinner\",\"lunch\",\"brunch\",\"delicious\"]\n",
    "facility= [\"pool\",\"gym\",\"wifi\",\"spa\",\"internet\",\"wireless\",\"broken\",\"parking\",\"ventilation\",\"maintained\",\"facility\",\"lot\",\"premises\"]\n",
    "staff= [\"friendly\",\"helpful\",\"reliable\",\"quick\",\"good\",\"polite\",\"staff\"]"
   ]
  },
  {
   "cell_type": "code",
   "execution_count": 7,
   "metadata": {},
   "outputs": [],
   "source": [
    "from nltk.corpus import wordnet\n",
    "import string\n",
    "from nltk import pos_tag\n",
    "from nltk.corpus import stopwords\n",
    "from nltk.tokenize import WhitespaceTokenizer\n",
    "from nltk.stem import WordNetLemmatizer\n",
    "\n",
    "def clean_text(text):\n",
    "    # lower text\n",
    "    text = text.lower()\n",
    "    # tokenize text and remove puncutation\n",
    "    text = [word.strip(string.punctuation) for word in text.split(\" \")]\n",
    "    # remove words that contain numbers\n",
    "    text = [word for word in text if not any(c.isdigit() for c in word)]\n",
    "    # remove empty tokens\n",
    "    text = [t for t in text if len(t) > 0]\n",
    "    # remove words with only one letter\n",
    "    text = [t for t in text if len(t) > 1]\n",
    "    # join all\n",
    "    text = \" \".join(text)\n",
    "    return(text)\n",
    "\n",
    "# clean text data\n",
    "df[\"sentences_clean\"] = df[\"sentences\"].apply(lambda x: clean_text(x))"
   ]
  },
  {
   "cell_type": "code",
   "execution_count": 8,
   "metadata": {},
   "outputs": [
    {
     "data": {
      "text/html": [
       "<div>\n",
       "<style scoped>\n",
       "    .dataframe tbody tr th:only-of-type {\n",
       "        vertical-align: middle;\n",
       "    }\n",
       "\n",
       "    .dataframe tbody tr th {\n",
       "        vertical-align: top;\n",
       "    }\n",
       "\n",
       "    .dataframe thead th {\n",
       "        text-align: right;\n",
       "    }\n",
       "</style>\n",
       "<table border=\"1\" class=\"dataframe\">\n",
       "  <thead>\n",
       "    <tr style=\"text-align: right;\">\n",
       "      <th></th>\n",
       "      <th>sentences</th>\n",
       "      <th>sentences_clean</th>\n",
       "    </tr>\n",
       "  </thead>\n",
       "  <tbody>\n",
       "    <tr>\n",
       "      <th>0</th>\n",
       "      <td>The premises are very peaceful and well mainta...</td>\n",
       "      <td>the premises are very peaceful and well mainta...</td>\n",
       "    </tr>\n",
       "    <tr>\n",
       "      <th>1</th>\n",
       "      <td>The apartment was spacious though basically eq...</td>\n",
       "      <td>the apartment was spacious though basically eq...</td>\n",
       "    </tr>\n",
       "    <tr>\n",
       "      <th>2</th>\n",
       "      <td>We enjoyed the fine pool and good food.</td>\n",
       "      <td>we enjoyed the fine pool and good food</td>\n",
       "    </tr>\n",
       "    <tr>\n",
       "      <th>3</th>\n",
       "      <td>But the hospitality was overwhelming!</td>\n",
       "      <td>but the hospitality was overwhelming</td>\n",
       "    </tr>\n",
       "    <tr>\n",
       "      <th>4</th>\n",
       "      <td>These people are so friendly and helpful that ...</td>\n",
       "      <td>these people are so friendly and helpful that ...</td>\n",
       "    </tr>\n",
       "    <tr>\n",
       "      <th>...</th>\n",
       "      <td>...</td>\n",
       "      <td>...</td>\n",
       "    </tr>\n",
       "    <tr>\n",
       "      <th>407957</th>\n",
       "      <td>Police were in parking lot as I was pulling in.</td>\n",
       "      <td>police were in parking lot as was pulling in</td>\n",
       "    </tr>\n",
       "    <tr>\n",
       "      <th>407958</th>\n",
       "      <td>People walking through parking lot heading bac...</td>\n",
       "      <td>people walking through parking lot heading bac...</td>\n",
       "    </tr>\n",
       "    <tr>\n",
       "      <th>407959</th>\n",
       "      <td>We were nearly eaten by the bed bugs, more agr...</td>\n",
       "      <td>we were nearly eaten by the bed bugs more agre...</td>\n",
       "    </tr>\n",
       "    <tr>\n",
       "      <th>407960</th>\n",
       "      <td>I would not reccomend this hole even to my wor...</td>\n",
       "      <td>would not reccomend this hole even to my worst...</td>\n",
       "    </tr>\n",
       "    <tr>\n",
       "      <th>407961</th>\n",
       "      <td>Next day we needed medical help.</td>\n",
       "      <td>next day we needed medical help</td>\n",
       "    </tr>\n",
       "  </tbody>\n",
       "</table>\n",
       "<p>407962 rows × 2 columns</p>\n",
       "</div>"
      ],
      "text/plain": [
       "                                                sentences  \\\n",
       "0       The premises are very peaceful and well mainta...   \n",
       "1       The apartment was spacious though basically eq...   \n",
       "2                 We enjoyed the fine pool and good food.   \n",
       "3                   But the hospitality was overwhelming!   \n",
       "4       These people are so friendly and helpful that ...   \n",
       "...                                                   ...   \n",
       "407957    Police were in parking lot as I was pulling in.   \n",
       "407958  People walking through parking lot heading bac...   \n",
       "407959  We were nearly eaten by the bed bugs, more agr...   \n",
       "407960  I would not reccomend this hole even to my wor...   \n",
       "407961                   Next day we needed medical help.   \n",
       "\n",
       "                                          sentences_clean  \n",
       "0       the premises are very peaceful and well mainta...  \n",
       "1       the apartment was spacious though basically eq...  \n",
       "2                  we enjoyed the fine pool and good food  \n",
       "3                    but the hospitality was overwhelming  \n",
       "4       these people are so friendly and helpful that ...  \n",
       "...                                                   ...  \n",
       "407957       police were in parking lot as was pulling in  \n",
       "407958  people walking through parking lot heading bac...  \n",
       "407959  we were nearly eaten by the bed bugs more agre...  \n",
       "407960  would not reccomend this hole even to my worst...  \n",
       "407961                    next day we needed medical help  \n",
       "\n",
       "[407962 rows x 2 columns]"
      ]
     },
     "execution_count": 8,
     "metadata": {},
     "output_type": "execute_result"
    }
   ],
   "source": [
    "df"
   ]
  },
  {
   "cell_type": "code",
   "execution_count": 9,
   "metadata": {},
   "outputs": [],
   "source": [
    "df1=df[df[\"sentences_clean\"]!= \"\"]"
   ]
  },
  {
   "cell_type": "code",
   "execution_count": 10,
   "metadata": {},
   "outputs": [
    {
     "data": {
      "text/html": [
       "<div>\n",
       "<style scoped>\n",
       "    .dataframe tbody tr th:only-of-type {\n",
       "        vertical-align: middle;\n",
       "    }\n",
       "\n",
       "    .dataframe tbody tr th {\n",
       "        vertical-align: top;\n",
       "    }\n",
       "\n",
       "    .dataframe thead th {\n",
       "        text-align: right;\n",
       "    }\n",
       "</style>\n",
       "<table border=\"1\" class=\"dataframe\">\n",
       "  <thead>\n",
       "    <tr style=\"text-align: right;\">\n",
       "      <th></th>\n",
       "      <th>sentences</th>\n",
       "      <th>sentences_clean</th>\n",
       "    </tr>\n",
       "  </thead>\n",
       "  <tbody>\n",
       "    <tr>\n",
       "      <th>0</th>\n",
       "      <td>The premises are very peaceful and well mainta...</td>\n",
       "      <td>the premises are very peaceful and well mainta...</td>\n",
       "    </tr>\n",
       "    <tr>\n",
       "      <th>1</th>\n",
       "      <td>The apartment was spacious though basically eq...</td>\n",
       "      <td>the apartment was spacious though basically eq...</td>\n",
       "    </tr>\n",
       "    <tr>\n",
       "      <th>2</th>\n",
       "      <td>We enjoyed the fine pool and good food.</td>\n",
       "      <td>we enjoyed the fine pool and good food</td>\n",
       "    </tr>\n",
       "    <tr>\n",
       "      <th>3</th>\n",
       "      <td>But the hospitality was overwhelming!</td>\n",
       "      <td>but the hospitality was overwhelming</td>\n",
       "    </tr>\n",
       "    <tr>\n",
       "      <th>4</th>\n",
       "      <td>These people are so friendly and helpful that ...</td>\n",
       "      <td>these people are so friendly and helpful that ...</td>\n",
       "    </tr>\n",
       "    <tr>\n",
       "      <th>...</th>\n",
       "      <td>...</td>\n",
       "      <td>...</td>\n",
       "    </tr>\n",
       "    <tr>\n",
       "      <th>407957</th>\n",
       "      <td>Police were in parking lot as I was pulling in.</td>\n",
       "      <td>police were in parking lot as was pulling in</td>\n",
       "    </tr>\n",
       "    <tr>\n",
       "      <th>407958</th>\n",
       "      <td>People walking through parking lot heading bac...</td>\n",
       "      <td>people walking through parking lot heading bac...</td>\n",
       "    </tr>\n",
       "    <tr>\n",
       "      <th>407959</th>\n",
       "      <td>We were nearly eaten by the bed bugs, more agr...</td>\n",
       "      <td>we were nearly eaten by the bed bugs more agre...</td>\n",
       "    </tr>\n",
       "    <tr>\n",
       "      <th>407960</th>\n",
       "      <td>I would not reccomend this hole even to my wor...</td>\n",
       "      <td>would not reccomend this hole even to my worst...</td>\n",
       "    </tr>\n",
       "    <tr>\n",
       "      <th>407961</th>\n",
       "      <td>Next day we needed medical help.</td>\n",
       "      <td>next day we needed medical help</td>\n",
       "    </tr>\n",
       "  </tbody>\n",
       "</table>\n",
       "<p>407382 rows × 2 columns</p>\n",
       "</div>"
      ],
      "text/plain": [
       "                                                sentences  \\\n",
       "0       The premises are very peaceful and well mainta...   \n",
       "1       The apartment was spacious though basically eq...   \n",
       "2                 We enjoyed the fine pool and good food.   \n",
       "3                   But the hospitality was overwhelming!   \n",
       "4       These people are so friendly and helpful that ...   \n",
       "...                                                   ...   \n",
       "407957    Police were in parking lot as I was pulling in.   \n",
       "407958  People walking through parking lot heading bac...   \n",
       "407959  We were nearly eaten by the bed bugs, more agr...   \n",
       "407960  I would not reccomend this hole even to my wor...   \n",
       "407961                   Next day we needed medical help.   \n",
       "\n",
       "                                          sentences_clean  \n",
       "0       the premises are very peaceful and well mainta...  \n",
       "1       the apartment was spacious though basically eq...  \n",
       "2                  we enjoyed the fine pool and good food  \n",
       "3                    but the hospitality was overwhelming  \n",
       "4       these people are so friendly and helpful that ...  \n",
       "...                                                   ...  \n",
       "407957       police were in parking lot as was pulling in  \n",
       "407958  people walking through parking lot heading bac...  \n",
       "407959  we were nearly eaten by the bed bugs more agre...  \n",
       "407960  would not reccomend this hole even to my worst...  \n",
       "407961                    next day we needed medical help  \n",
       "\n",
       "[407382 rows x 2 columns]"
      ]
     },
     "execution_count": 10,
     "metadata": {},
     "output_type": "execute_result"
    }
   ],
   "source": [
    "df1"
   ]
  },
  {
   "cell_type": "code",
   "execution_count": 11,
   "metadata": {},
   "outputs": [],
   "source": [
    "import re\n",
    "wordlist=[]\n",
    "for i in df1[\"sentences_clean\"]:\n",
    "    wordlist.append(re.split('\\s+',i))"
   ]
  },
  {
   "cell_type": "code",
   "execution_count": 12,
   "metadata": {},
   "outputs": [
    {
     "data": {
      "text/plain": [
       "'after small accident with child that needed stitching in the hospital the brought us there and picked us up again and arranged some snacks during the waiting'"
      ]
     },
     "execution_count": 12,
     "metadata": {},
     "output_type": "execute_result"
    }
   ],
   "source": [
    "df1[\"sentences_clean\"][5]"
   ]
  },
  {
   "cell_type": "code",
   "execution_count": 13,
   "metadata": {},
   "outputs": [
    {
     "data": {
      "text/plain": [
       "array([list(['the', 'premises', 'are', 'very', 'peaceful', 'and', 'well', 'maintained']),\n",
       "       list(['the', 'apartment', 'was', 'spacious', 'though', 'basically', 'equipped']),\n",
       "       list(['we', 'enjoyed', 'the', 'fine', 'pool', 'and', 'good', 'food']),\n",
       "       ...,\n",
       "       list(['we', 'were', 'nearly', 'eaten', 'by', 'the', 'bed', 'bugs', 'more', 'agressive', 'than', 'denali', 'bears']),\n",
       "       list(['would', 'not', 'reccomend', 'this', 'hole', 'even', 'to', 'my', 'worst', 'enemy']),\n",
       "       list(['next', 'day', 'we', 'needed', 'medical', 'help'])],\n",
       "      dtype=object)"
      ]
     },
     "execution_count": 13,
     "metadata": {},
     "output_type": "execute_result"
    }
   ],
   "source": [
    "np.array(wordlist)"
   ]
  },
  {
   "cell_type": "code",
   "execution_count": 14,
   "metadata": {},
   "outputs": [],
   "source": [
    "a=[]\n",
    "for i in range(len(wordlist)):\n",
    "    a.append(len(wordlist[i]))"
   ]
  },
  {
   "cell_type": "code",
   "execution_count": 15,
   "metadata": {},
   "outputs": [],
   "source": [
    "from statistics import mean "
   ]
  },
  {
   "cell_type": "code",
   "execution_count": 16,
   "metadata": {},
   "outputs": [],
   "source": [
    "def cosine(wordlist,category):\n",
    "    t=[]\n",
    "    for i in wordlist:\n",
    "        l1 =[];l2 =[] \n",
    "        X_set = {w for w in i}\n",
    "        Y_set = {w for w in category}\n",
    "        # form a set containing keywords of both strings  \n",
    "        rvector = X_set.union(Y_set)  \n",
    "        for w in rvector: \n",
    "            if w in X_set: l1.append(1) # create a vector \n",
    "            else: l1.append(0) \n",
    "            if w in Y_set: l2.append(1) \n",
    "            else: l2.append(0) \n",
    "        c = 0\n",
    "        # cosine formula  \n",
    "        for i in range(len(rvector)): \n",
    "                c+= l1[i]*l2[i] \n",
    "        cosine = c / float((sum(l1)*sum(l2))**0.5) \n",
    "        t.append(cosine) \n",
    "    return t\n",
    "\n",
    "clc=cosine(wordlist,cleanliness)\n",
    "sec=cosine(wordlist,service)\n",
    "loc=cosine(wordlist,location)\n",
    "vac=cosine(wordlist,value)\n",
    "roc=cosine(wordlist,room)\n",
    "foc=cosine(wordlist,food)\n",
    "facc=cosine(wordlist,facility)\n",
    "stac=cosine(wordlist,staff)"
   ]
  },
  {
   "cell_type": "code",
   "execution_count": 17,
   "metadata": {},
   "outputs": [],
   "source": [
    "fuzzyc=np.c_[clc,sec]\n",
    "fuzzyc=np.c_[fuzzyc,loc]\n",
    "fuzzyc=np.c_[fuzzyc,vac]\n",
    "fuzzyc=np.c_[fuzzyc,roc]\n",
    "fuzzyc=np.c_[fuzzyc,foc]\n",
    "fuzzyc=np.c_[fuzzyc,facc]\n",
    "fuzzyc=np.c_[fuzzyc,stac]"
   ]
  },
  {
   "cell_type": "code",
   "execution_count": 18,
   "metadata": {},
   "outputs": [
    {
     "data": {
      "text/plain": [
       "array([[0.        , 0.        , 0.        , ..., 0.        , 0.19611614,\n",
       "        0.        ],\n",
       "       [0.        , 0.        , 0.        , ..., 0.        , 0.        ,\n",
       "        0.        ],\n",
       "       [0.        , 0.        , 0.        , ..., 0.09449112, 0.09805807,\n",
       "        0.13363062],\n",
       "       ...,\n",
       "       [0.        , 0.        , 0.        , ..., 0.        , 0.        ,\n",
       "        0.        ],\n",
       "       [0.        , 0.        , 0.        , ..., 0.        , 0.        ,\n",
       "        0.        ],\n",
       "       [0.        , 0.        , 0.        , ..., 0.        , 0.        ,\n",
       "        0.        ]])"
      ]
     },
     "execution_count": 18,
     "metadata": {},
     "output_type": "execute_result"
    }
   ],
   "source": [
    "fuzzyc"
   ]
  },
  {
   "cell_type": "code",
   "execution_count": 19,
   "metadata": {},
   "outputs": [],
   "source": [
    "maxpos=[]\n",
    "for i in fuzzyc:\n",
    "    maximum = np.max(i)\n",
    "    tu=np.where(i == maximum)\n",
    "    maxpos.append(tu[0])"
   ]
  },
  {
   "cell_type": "code",
   "execution_count": 20,
   "metadata": {},
   "outputs": [],
   "source": [
    "pos=[]\n",
    "for i in maxpos:\n",
    "    pos.append(i[0])"
   ]
  },
  {
   "cell_type": "code",
   "execution_count": 21,
   "metadata": {},
   "outputs": [],
   "source": [
    "categories=[]\n",
    "for i in pos:\n",
    "    if i==0:\n",
    "        categories.append(\"cleanliness\")\n",
    "    if i==1:\n",
    "        categories.append(\"service\")\n",
    "    if i==2:\n",
    "        categories.append(\"location\")\n",
    "    if i==3:\n",
    "        categories.append(\"value\")\n",
    "    if i==4:\n",
    "        categories.append(\"room\")\n",
    "    if i==5:\n",
    "        categories.append(\"food\")\n",
    "    if i==6:\n",
    "        categories.append(\"facility\")\n",
    "    if i==7:\n",
    "        categories.append(\"staff\")"
   ]
  },
  {
   "cell_type": "code",
   "execution_count": 22,
   "metadata": {},
   "outputs": [
    {
     "name": "stderr",
     "output_type": "stream",
     "text": [
      "/opt/conda/lib/python3.7/site-packages/ipykernel_launcher.py:1: SettingWithCopyWarning: \n",
      "A value is trying to be set on a copy of a slice from a DataFrame.\n",
      "Try using .loc[row_indexer,col_indexer] = value instead\n",
      "\n",
      "See the caveats in the documentation: https://pandas.pydata.org/pandas-docs/stable/user_guide/indexing.html#returning-a-view-versus-a-copy\n",
      "  \"\"\"Entry point for launching an IPython kernel.\n"
     ]
    }
   ],
   "source": [
    "df1[\"categories\"]=categories"
   ]
  },
  {
   "cell_type": "code",
   "execution_count": 23,
   "metadata": {},
   "outputs": [
    {
     "data": {
      "text/html": [
       "<div>\n",
       "<style scoped>\n",
       "    .dataframe tbody tr th:only-of-type {\n",
       "        vertical-align: middle;\n",
       "    }\n",
       "\n",
       "    .dataframe tbody tr th {\n",
       "        vertical-align: top;\n",
       "    }\n",
       "\n",
       "    .dataframe thead th {\n",
       "        text-align: right;\n",
       "    }\n",
       "</style>\n",
       "<table border=\"1\" class=\"dataframe\">\n",
       "  <thead>\n",
       "    <tr style=\"text-align: right;\">\n",
       "      <th></th>\n",
       "      <th>sentences</th>\n",
       "      <th>sentences_clean</th>\n",
       "      <th>categories</th>\n",
       "    </tr>\n",
       "  </thead>\n",
       "  <tbody>\n",
       "    <tr>\n",
       "      <th>0</th>\n",
       "      <td>The premises are very peaceful and well mainta...</td>\n",
       "      <td>the premises are very peaceful and well mainta...</td>\n",
       "      <td>facility</td>\n",
       "    </tr>\n",
       "    <tr>\n",
       "      <th>1</th>\n",
       "      <td>The apartment was spacious though basically eq...</td>\n",
       "      <td>the apartment was spacious though basically eq...</td>\n",
       "      <td>room</td>\n",
       "    </tr>\n",
       "    <tr>\n",
       "      <th>2</th>\n",
       "      <td>We enjoyed the fine pool and good food.</td>\n",
       "      <td>we enjoyed the fine pool and good food</td>\n",
       "      <td>staff</td>\n",
       "    </tr>\n",
       "    <tr>\n",
       "      <th>3</th>\n",
       "      <td>But the hospitality was overwhelming!</td>\n",
       "      <td>but the hospitality was overwhelming</td>\n",
       "      <td>service</td>\n",
       "    </tr>\n",
       "    <tr>\n",
       "      <th>4</th>\n",
       "      <td>These people are so friendly and helpful that ...</td>\n",
       "      <td>these people are so friendly and helpful that ...</td>\n",
       "      <td>staff</td>\n",
       "    </tr>\n",
       "    <tr>\n",
       "      <th>...</th>\n",
       "      <td>...</td>\n",
       "      <td>...</td>\n",
       "      <td>...</td>\n",
       "    </tr>\n",
       "    <tr>\n",
       "      <th>407957</th>\n",
       "      <td>Police were in parking lot as I was pulling in.</td>\n",
       "      <td>police were in parking lot as was pulling in</td>\n",
       "      <td>facility</td>\n",
       "    </tr>\n",
       "    <tr>\n",
       "      <th>407958</th>\n",
       "      <td>People walking through parking lot heading bac...</td>\n",
       "      <td>people walking through parking lot heading bac...</td>\n",
       "      <td>room</td>\n",
       "    </tr>\n",
       "    <tr>\n",
       "      <th>407959</th>\n",
       "      <td>We were nearly eaten by the bed bugs, more agr...</td>\n",
       "      <td>we were nearly eaten by the bed bugs more agre...</td>\n",
       "      <td>room</td>\n",
       "    </tr>\n",
       "    <tr>\n",
       "      <th>407960</th>\n",
       "      <td>I would not reccomend this hole even to my wor...</td>\n",
       "      <td>would not reccomend this hole even to my worst...</td>\n",
       "      <td>cleanliness</td>\n",
       "    </tr>\n",
       "    <tr>\n",
       "      <th>407961</th>\n",
       "      <td>Next day we needed medical help.</td>\n",
       "      <td>next day we needed medical help</td>\n",
       "      <td>cleanliness</td>\n",
       "    </tr>\n",
       "  </tbody>\n",
       "</table>\n",
       "<p>407382 rows × 3 columns</p>\n",
       "</div>"
      ],
      "text/plain": [
       "                                                sentences  \\\n",
       "0       The premises are very peaceful and well mainta...   \n",
       "1       The apartment was spacious though basically eq...   \n",
       "2                 We enjoyed the fine pool and good food.   \n",
       "3                   But the hospitality was overwhelming!   \n",
       "4       These people are so friendly and helpful that ...   \n",
       "...                                                   ...   \n",
       "407957    Police were in parking lot as I was pulling in.   \n",
       "407958  People walking through parking lot heading bac...   \n",
       "407959  We were nearly eaten by the bed bugs, more agr...   \n",
       "407960  I would not reccomend this hole even to my wor...   \n",
       "407961                   Next day we needed medical help.   \n",
       "\n",
       "                                          sentences_clean   categories  \n",
       "0       the premises are very peaceful and well mainta...     facility  \n",
       "1       the apartment was spacious though basically eq...         room  \n",
       "2                  we enjoyed the fine pool and good food        staff  \n",
       "3                    but the hospitality was overwhelming      service  \n",
       "4       these people are so friendly and helpful that ...        staff  \n",
       "...                                                   ...          ...  \n",
       "407957       police were in parking lot as was pulling in     facility  \n",
       "407958  people walking through parking lot heading bac...         room  \n",
       "407959  we were nearly eaten by the bed bugs more agre...         room  \n",
       "407960  would not reccomend this hole even to my worst...  cleanliness  \n",
       "407961                    next day we needed medical help  cleanliness  \n",
       "\n",
       "[407382 rows x 3 columns]"
      ]
     },
     "execution_count": 23,
     "metadata": {},
     "output_type": "execute_result"
    }
   ],
   "source": [
    "df1"
   ]
  },
  {
   "cell_type": "code",
   "execution_count": 24,
   "metadata": {},
   "outputs": [],
   "source": [
    "df1.to_csv('reviewsentences.csv',index=False)"
   ]
  },
  {
   "cell_type": "code",
   "execution_count": null,
   "metadata": {},
   "outputs": [],
   "source": []
  }
 ],
 "metadata": {
  "kernelspec": {
   "display_name": "Python 3",
   "language": "python",
   "name": "python3"
  },
  "language_info": {
   "codemirror_mode": {
    "name": "ipython",
    "version": 3
   },
   "file_extension": ".py",
   "mimetype": "text/x-python",
   "name": "python",
   "nbconvert_exporter": "python",
   "pygments_lexer": "ipython3",
   "version": "3.7.6"
  }
 },
 "nbformat": 4,
 "nbformat_minor": 4
}
